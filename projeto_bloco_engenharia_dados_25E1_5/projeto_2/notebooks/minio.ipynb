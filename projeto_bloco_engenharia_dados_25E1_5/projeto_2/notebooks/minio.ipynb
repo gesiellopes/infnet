{
 "cells": [
  {
   "cell_type": "code",
   "execution_count": 1,
   "id": "b9d8a90a-4606-4d70-9428-7a5f812cbaf7",
   "metadata": {},
   "outputs": [],
   "source": [
    "from pyspark.sql.types import StructType, StructField, StringType, IntegerType \n",
    "from pyspark.sql import SparkSession"
   ]
  },
  {
   "cell_type": "code",
   "execution_count": 5,
   "id": "f6ef9af7-e06d-4a2d-8f3b-c84381a63863",
   "metadata": {},
   "outputs": [],
   "source": [
    "jars = ['./aws-java-sdk-bundle-1.12.262.jar', './hadoop-aws-3.3.4.jar']"
   ]
  },
  {
   "cell_type": "code",
   "execution_count": 6,
   "id": "392576a8-0c65-425e-9537-f1641ee2f020",
   "metadata": {},
   "outputs": [
    {
     "name": "stderr",
     "output_type": "stream",
     "text": [
      "25/05/07 00:17:50 WARN NativeCodeLoader: Unable to load native-hadoop library for your platform... using builtin-java classes where applicable\n",
      "Setting default log level to \"WARN\".\n",
      "To adjust logging level use sc.setLogLevel(newLevel). For SparkR, use setLogLevel(newLevel).\n"
     ]
    }
   ],
   "source": [
    "spark = (\n",
    "    # https://medium.com/@abdullahdurrani/working-with-minio-and-spark-8b4729daec6e\n",
    "    # Set the MinIO access key, secret key, endpoint, and other configurations\n",
    "    SparkSession\n",
    "        .builder\n",
    "        .master(\"spark://spark:7077\")\n",
    "        .appName('MinIO - Teste')\n",
    "        .config('spark.hadoop.fs.s3a.endpoint', 'http://minio:9000')\n",
    "        .config('spark.hadoop.fs.s3a.access.key', 'minioadmin')\n",
    "        .config('spark.hadoop.fs.s3a.secret.key', 'minioadmin')\n",
    "        .config('spark.hadoop.fs.s3a.path.style.access', 'true')\n",
    "        .config('spark.hadoop.fs.s3a.connection.ssl.enabled', 'false')\n",
    "        .config('spark.hadoop.fs.s3a.impl', 'org.apache.hadoop.fs.s3a.S3AFileSystem')\n",
    "        .config('spark.jars', ', '.join(jars))\n",
    "        # .config('spark.jars.packages', 'com.amazonaws:aws-java-sdk-bundle:1.12.783, org.apache.hadoop:hadoop-aws:3.4.1')\n",
    "        .getOrCreate()\n",
    ")"
   ]
  },
  {
   "cell_type": "code",
   "execution_count": 7,
   "id": "55f38c1e-6e0f-4ac7-98c6-ef9739c5a923",
   "metadata": {},
   "outputs": [
    {
     "name": "stdout",
     "output_type": "stream",
     "text": [
      "root\n",
      " |-- firstname: string (nullable = true)\n",
      " |-- middlename: string (nullable = true)\n",
      " |-- lastname: string (nullable = true)\n",
      " |-- id: string (nullable = true)\n",
      " |-- gender: string (nullable = true)\n",
      " |-- salary: integer (nullable = true)\n",
      "\n"
     ]
    }
   ],
   "source": [
    "data = [ \n",
    " (\"James\",\"\",\"Smith\",\"36636\",\"M\",3000),\n",
    " (\"Michael\",\"Rose\",\"\",\"40288\",\"M\",4000),\n",
    " (\"Robert\",\"\",\"Williams\",\"42114\",\"M\",4000),\n",
    " (\"Maria\",\"Anne\",\"Jones\",\"39192\",\"F\",4000),\n",
    " (\"Jen\",\"Mary\",\"Brown\",\"\",\"F\",-1) \n",
    "]\n",
    "\n",
    "schema = (\n",
    " StructType([\n",
    "  StructField(\"firstname\",StringType(),True),\n",
    "  StructField(\"middlename\",StringType(),True), \n",
    "  StructField(\"lastname\",StringType(),True),\n",
    "  StructField(\"id\", StringType(), True),\n",
    "  StructField(\"gender\", StringType(), True),\n",
    "  StructField(\"salary\", IntegerType(), True)\n",
    "   ])\n",
    ")\n",
    "\n",
    "df = spark.createDataFrame(data=data,schema=schema)\n",
    "df.printSchema()"
   ]
  },
  {
   "cell_type": "code",
   "execution_count": 8,
   "id": "7ba5ee5f-a95e-47f4-bbfb-315c304df7f8",
   "metadata": {},
   "outputs": [
    {
     "name": "stderr",
     "output_type": "stream",
     "text": [
      "                                                                                "
     ]
    },
    {
     "name": "stdout",
     "output_type": "stream",
     "text": [
      "+---------+----------+--------+-----+------+------+\n",
      "|firstname|middlename|lastname|   id|gender|salary|\n",
      "+---------+----------+--------+-----+------+------+\n",
      "|    James|          |   Smith|36636|     M|  3000|\n",
      "|  Michael|      Rose|        |40288|     M|  4000|\n",
      "|   Robert|          |Williams|42114|     M|  4000|\n",
      "|    Maria|      Anne|   Jones|39192|     F|  4000|\n",
      "|      Jen|      Mary|   Brown|     |     F|    -1|\n",
      "+---------+----------+--------+-----+------+------+\n",
      "\n"
     ]
    }
   ],
   "source": [
    "df.show()"
   ]
  },
  {
   "cell_type": "code",
   "execution_count": 9,
   "id": "80ef705b-0c0f-47d9-bd31-30010e5a2141",
   "metadata": {},
   "outputs": [
    {
     "name": "stderr",
     "output_type": "stream",
     "text": [
      "25/05/07 00:17:58 WARN MetricsConfig: Cannot locate configuration: tried hadoop-metrics2-s3a-file-system.properties,hadoop-metrics2.properties\n",
      "                                                                                "
     ]
    }
   ],
   "source": [
    "df.coalesce(1).write.mode('overwrite').parquet('s3a://land/data_2.parquet')"
   ]
  },
  {
   "cell_type": "code",
   "execution_count": 10,
   "id": "b34b3261-1c5d-4af9-9fae-1dc5fdcb27fb",
   "metadata": {},
   "outputs": [
    {
     "name": "stderr",
     "output_type": "stream",
     "text": [
      "\t[SUCCESSFUL ] com.amazonaws#aws-java-sdk-bundle;1.12.783!aws-java-sdk-bundle.jar (1128948ms)\n",
      ":: resolution report :: resolve 3626ms :: artifacts dl 1128953ms\n",
      "\t:: modules in use:\n",
      "\tcom.amazonaws#aws-java-sdk-bundle;1.12.783 from central in [default]\n",
      "\t---------------------------------------------------------------------\n",
      "\t|                  |            modules            ||   artifacts   |\n",
      "\t|       conf       | number| search|dwnlded|evicted|| number|dwnlded|\n",
      "\t---------------------------------------------------------------------\n",
      "\t|      default     |   2   |   1   |   1   |   0   ||   1   |   1   |\n",
      "\t---------------------------------------------------------------------\n",
      "\n",
      ":: problems summary ::\n",
      ":::: WARNINGS\n",
      "\t\tmodule not found:  org.apache.hadoop#hadoop-aws;3.4.1\n",
      "\n",
      "\t==== local-m2-cache: tried\n",
      "\n",
      "\t  file:/root/.m2/repository/ org/apache/hadoop/hadoop-aws/3.4.1/hadoop-aws-3.4.1.pom\n",
      "\n",
      "\t  -- artifact  org.apache.hadoop#hadoop-aws;3.4.1!hadoop-aws.jar:\n",
      "\n",
      "\t  file:/root/.m2/repository/ org/apache/hadoop/hadoop-aws/3.4.1/hadoop-aws-3.4.1.jar\n",
      "\n",
      "\t==== local-ivy-cache: tried\n",
      "\n",
      "\t  /root/.ivy2/local/ org.apache.hadoop/hadoop-aws/3.4.1/ivys/ivy.xml\n",
      "\n",
      "\t  -- artifact  org.apache.hadoop#hadoop-aws;3.4.1!hadoop-aws.jar:\n",
      "\n",
      "\t  /root/.ivy2/local/ org.apache.hadoop/hadoop-aws/3.4.1/jars/hadoop-aws.jar\n",
      "\n",
      "\t==== central: tried\n",
      "\n",
      "\t  https://repo1.maven.org/maven2/ org/apache/hadoop/hadoop-aws/3.4.1/hadoop-aws-3.4.1.pom\n",
      "\n",
      "\t  -- artifact  org.apache.hadoop#hadoop-aws;3.4.1!hadoop-aws.jar:\n",
      "\n",
      "\t  https://repo1.maven.org/maven2/ org/apache/hadoop/hadoop-aws/3.4.1/hadoop-aws-3.4.1.jar\n",
      "\n",
      "\t==== spark-packages: tried\n",
      "\n",
      "\t  https://repos.spark-packages.org/ org/apache/hadoop/hadoop-aws/3.4.1/hadoop-aws-3.4.1.pom\n",
      "\n",
      "\t  -- artifact  org.apache.hadoop#hadoop-aws;3.4.1!hadoop-aws.jar:\n",
      "\n",
      "\t  https://repos.spark-packages.org/ org/apache/hadoop/hadoop-aws/3.4.1/hadoop-aws-3.4.1.jar\n",
      "\n",
      "\t\t::::::::::::::::::::::::::::::::::::::::::::::\n",
      "\n",
      "\t\t::          UNRESOLVED DEPENDENCIES         ::\n",
      "\n",
      "\t\t::::::::::::::::::::::::::::::::::::::::::::::\n",
      "\n",
      "\t\t::  org.apache.hadoop#hadoop-aws;3.4.1: not found\n",
      "\n",
      "\t\t::::::::::::::::::::::::::::::::::::::::::::::\n",
      "\n",
      "\n",
      "\n",
      ":: USE VERBOSE OR DEBUG MESSAGE LEVEL FOR MORE DETAILS\n",
      "Exception in thread \"main\" java.lang.RuntimeException: [unresolved dependency:  org.apache.hadoop#hadoop-aws;3.4.1: not found]\n",
      "\tat org.apache.spark.deploy.SparkSubmitUtils$.resolveMavenCoordinates(SparkSubmit.scala:1613)\n",
      "\tat org.apache.spark.util.DependencyUtils$.resolveMavenDependencies(DependencyUtils.scala:185)\n",
      "\tat org.apache.spark.deploy.SparkSubmit.prepareSubmitEnvironment(SparkSubmit.scala:339)\n",
      "\tat org.apache.spark.deploy.SparkSubmit.org$apache$spark$deploy$SparkSubmit$$runMain(SparkSubmit.scala:969)\n",
      "\tat org.apache.spark.deploy.SparkSubmit.doRunMain$1(SparkSubmit.scala:199)\n",
      "\tat org.apache.spark.deploy.SparkSubmit.submit(SparkSubmit.scala:222)\n",
      "\tat org.apache.spark.deploy.SparkSubmit.doSubmit(SparkSubmit.scala:91)\n",
      "\tat org.apache.spark.deploy.SparkSubmit$$anon$2.doSubmit(SparkSubmit.scala:1125)\n",
      "\tat org.apache.spark.deploy.SparkSubmit$.main(SparkSubmit.scala:1134)\n",
      "\tat org.apache.spark.deploy.SparkSubmit.main(SparkSubmit.scala)\n"
     ]
    }
   ],
   "source": [
    "spark.stop()"
   ]
  },
  {
   "cell_type": "code",
   "execution_count": null,
   "id": "6cd924e3-923c-40a3-b0ee-3ccca4cfa913",
   "metadata": {},
   "outputs": [],
   "source": []
  },
  {
   "cell_type": "code",
   "execution_count": null,
   "id": "1f3a2f7d-bd96-4e30-ae92-526a6518ae61",
   "metadata": {},
   "outputs": [],
   "source": []
  }
 ],
 "metadata": {
  "kernelspec": {
   "display_name": "Python 3 (ipykernel)",
   "language": "python",
   "name": "python3"
  },
  "language_info": {
   "codemirror_mode": {
    "name": "ipython",
    "version": 3
   },
   "file_extension": ".py",
   "mimetype": "text/x-python",
   "name": "python",
   "nbconvert_exporter": "python",
   "pygments_lexer": "ipython3",
   "version": "3.12.9"
  }
 },
 "nbformat": 4,
 "nbformat_minor": 5
}
