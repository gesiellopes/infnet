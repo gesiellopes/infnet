{
 "cells": [
  {
   "cell_type": "code",
   "execution_count": null,
   "id": "50e45d03-7623-407b-aef9-7c6c9ecf3ec3",
   "metadata": {},
   "outputs": [],
   "source": [
    "# !pip install pandas # instalar o pandas\n",
    "# !pip install geopandas # instalar o geopandas para trabalhar com dados geograficos\n",
    "# !pip install matplotlib"
   ]
  },
  {
   "cell_type": "code",
   "execution_count": 4,
   "id": "20063e46-07b2-4b9a-a176-924868230668",
   "metadata": {},
   "outputs": [],
   "source": [
    "import requests\n",
    "import pandas as pd\n",
    "import geopandas as gpd\n",
    "from pyspark.sql import SparkSession"
   ]
  },
  {
   "cell_type": "code",
   "execution_count": 19,
   "id": "296b9824-ec7e-4037-9e2d-c096d11365f8",
   "metadata": {},
   "outputs": [],
   "source": [
    "## Constantes\n",
    "\n",
    "ibge_url_municipios_sp = 'https://geoftp.ibge.gov.br/organizacao_do_territorio/malhas_territoriais/malhas_municipais/municipio_2024/UFs/SP/SP_Municipios_2024.zip'\n",
    "nasa_api_base_url = 'https://power.larc.nasa.gov/api/temporal/climatology'\n",
    "jars = ['./aws-java-sdk-bundle-1.12.262.jar', './hadoop-aws-3.3.4.jar']"
   ]
  },
  {
   "cell_type": "code",
   "execution_count": 6,
   "id": "f5c9670e-5dc2-45c0-a349-170d64875ede",
   "metadata": {},
   "outputs": [],
   "source": [
    "# Passo 1: baixar os dados do ibge sobre os municipios brasileiros (municipios de SP)\n",
    "# Camada silver"
   ]
  },
  {
   "cell_type": "code",
   "execution_count": 16,
   "id": "22b8292e-3426-4068-a0f4-ced16b208952",
   "metadata": {},
   "outputs": [
    {
     "name": "stderr",
     "output_type": "stream",
     "text": [
      "/tmp/ipykernel_1293/2332861259.py:2: UserWarning: Geometry is in a geographic CRS. Results from 'centroid' are likely incorrect. Use 'GeoSeries.to_crs()' to re-project geometries to a projected CRS before this operation.\n",
      "\n",
      "  municipios_sp_gdf['localizacao'] = municipios_sp_gdf.geometry.centroid\n"
     ]
    },
    {
     "data": {
      "text/html": [
       "<div>\n",
       "<style scoped>\n",
       "    .dataframe tbody tr th:only-of-type {\n",
       "        vertical-align: middle;\n",
       "    }\n",
       "\n",
       "    .dataframe tbody tr th {\n",
       "        vertical-align: top;\n",
       "    }\n",
       "\n",
       "    .dataframe thead th {\n",
       "        text-align: right;\n",
       "    }\n",
       "</style>\n",
       "<table border=\"1\" class=\"dataframe\">\n",
       "  <thead>\n",
       "    <tr style=\"text-align: right;\">\n",
       "      <th></th>\n",
       "      <th>CD_MUN</th>\n",
       "      <th>NM_MUN</th>\n",
       "      <th>CD_RGI</th>\n",
       "      <th>NM_RGI</th>\n",
       "      <th>CD_RGINT</th>\n",
       "      <th>NM_RGINT</th>\n",
       "      <th>CD_UF</th>\n",
       "      <th>NM_UF</th>\n",
       "      <th>SIGLA_UF</th>\n",
       "      <th>CD_REGIA</th>\n",
       "      <th>NM_REGIA</th>\n",
       "      <th>SIGLA_RG</th>\n",
       "      <th>CD_CONCU</th>\n",
       "      <th>NM_CONCU</th>\n",
       "      <th>AREA_KM2</th>\n",
       "      <th>geometry</th>\n",
       "      <th>localizacao</th>\n",
       "      <th>lat</th>\n",
       "      <th>long</th>\n",
       "    </tr>\n",
       "  </thead>\n",
       "  <tbody>\n",
       "    <tr>\n",
       "      <th>0</th>\n",
       "      <td>3513009</td>\n",
       "      <td>Cotia</td>\n",
       "      <td>350001</td>\n",
       "      <td>São Paulo</td>\n",
       "      <td>3501</td>\n",
       "      <td>São Paulo</td>\n",
       "      <td>35</td>\n",
       "      <td>São Paulo</td>\n",
       "      <td>SP</td>\n",
       "      <td>3</td>\n",
       "      <td>Sudeste</td>\n",
       "      <td>SE</td>\n",
       "      <td>3550308</td>\n",
       "      <td>São Paulo/SP</td>\n",
       "      <td>323.994</td>\n",
       "      <td>POLYGON ((-46.91759 -23.65551, -46.91764 -23.6...</td>\n",
       "      <td>POINT (-46.96051 -23.67515)</td>\n",
       "      <td>-23.675154</td>\n",
       "      <td>-46.960512</td>\n",
       "    </tr>\n",
       "    <tr>\n",
       "      <th>1</th>\n",
       "      <td>3532827</td>\n",
       "      <td>Nova Campina</td>\n",
       "      <td>350004</td>\n",
       "      <td>Itapeva</td>\n",
       "      <td>3502</td>\n",
       "      <td>Sorocaba</td>\n",
       "      <td>35</td>\n",
       "      <td>São Paulo</td>\n",
       "      <td>SP</td>\n",
       "      <td>3</td>\n",
       "      <td>Sudeste</td>\n",
       "      <td>SE</td>\n",
       "      <td>None</td>\n",
       "      <td>None</td>\n",
       "      <td>385.375</td>\n",
       "      <td>POLYGON ((-48.89989 -24.10036, -48.87064 -24.1...</td>\n",
       "      <td>POINT (-48.97291 -24.19062)</td>\n",
       "      <td>-24.190622</td>\n",
       "      <td>-48.972913</td>\n",
       "    </tr>\n",
       "  </tbody>\n",
       "</table>\n",
       "</div>"
      ],
      "text/plain": [
       "    CD_MUN        NM_MUN  CD_RGI     NM_RGI CD_RGINT   NM_RGINT CD_UF  \\\n",
       "0  3513009         Cotia  350001  São Paulo     3501  São Paulo    35   \n",
       "1  3532827  Nova Campina  350004    Itapeva     3502   Sorocaba    35   \n",
       "\n",
       "       NM_UF SIGLA_UF CD_REGIA NM_REGIA SIGLA_RG CD_CONCU      NM_CONCU  \\\n",
       "0  São Paulo       SP        3  Sudeste       SE  3550308  São Paulo/SP   \n",
       "1  São Paulo       SP        3  Sudeste       SE     None          None   \n",
       "\n",
       "   AREA_KM2                                           geometry  \\\n",
       "0   323.994  POLYGON ((-46.91759 -23.65551, -46.91764 -23.6...   \n",
       "1   385.375  POLYGON ((-48.89989 -24.10036, -48.87064 -24.1...   \n",
       "\n",
       "                   localizacao        lat       long  \n",
       "0  POINT (-46.96051 -23.67515) -23.675154 -46.960512  \n",
       "1  POINT (-48.97291 -24.19062) -24.190622 -48.972913  "
      ]
     },
     "execution_count": 16,
     "metadata": {},
     "output_type": "execute_result"
    }
   ],
   "source": [
    "municipios_sp_gdf = gpd.read_file(ibge_url_municipios_sp)\n",
    "municipios_sp_gdf['localizacao'] = municipios_sp_gdf.geometry.centroid\n",
    "municipios_sp_gdf['lat'] = municipios_sp_gdf.localizacao.y\n",
    "municipios_sp_gdf['long'] = municipios_sp_gdf.localizacao.x\n",
    "municipios_sp_gdf.head(2)"
   ]
  },
  {
   "cell_type": "code",
   "execution_count": 13,
   "id": "545e816f-32d5-4505-bbdb-6e111ff259cb",
   "metadata": {},
   "outputs": [
    {
     "data": {
      "text/plain": [
       "<Axes: >"
      ]
     },
     "execution_count": 13,
     "metadata": {},
     "output_type": "execute_result"
    },
    {
     "data": {
      "image/png": "[encoded data removed]",
      "text/plain": [
       "<Figure size 640x480 with 1 Axes>"
      ]
     },
     "metadata": {},
     "output_type": "display_data"
    }
   ],
   "source": [
    "municipios_sp_gdf['localizacao'].plot()"
   ]
  },
  {
   "cell_type": "code",
   "execution_count": 18,
   "id": "41202d0e-3af6-4796-bcec-a6ab02f1774c",
   "metadata": {},
   "outputs": [
    {
     "data": {
      "text/html": [
       "<div>\n",
       "<style scoped>\n",
       "    .dataframe tbody tr th:only-of-type {\n",
       "        vertical-align: middle;\n",
       "    }\n",
       "\n",
       "    .dataframe tbody tr th {\n",
       "        vertical-align: top;\n",
       "    }\n",
       "\n",
       "    .dataframe thead th {\n",
       "        text-align: right;\n",
       "    }\n",
       "</style>\n",
       "<table border=\"1\" class=\"dataframe\">\n",
       "  <thead>\n",
       "    <tr style=\"text-align: right;\">\n",
       "      <th></th>\n",
       "      <th>CD_MUN</th>\n",
       "      <th>NM_MUN</th>\n",
       "      <th>SIGLA_UF</th>\n",
       "      <th>lat</th>\n",
       "      <th>long</th>\n",
       "    </tr>\n",
       "  </thead>\n",
       "  <tbody>\n",
       "    <tr>\n",
       "      <th>0</th>\n",
       "      <td>3513009</td>\n",
       "      <td>Cotia</td>\n",
       "      <td>SP</td>\n",
       "      <td>-23.675154</td>\n",
       "      <td>-46.960512</td>\n",
       "    </tr>\n",
       "    <tr>\n",
       "      <th>1</th>\n",
       "      <td>3532827</td>\n",
       "      <td>Nova Campina</td>\n",
       "      <td>SP</td>\n",
       "      <td>-24.190622</td>\n",
       "      <td>-48.972913</td>\n",
       "    </tr>\n",
       "  </tbody>\n",
       "</table>\n",
       "</div>"
      ],
      "text/plain": [
       "    CD_MUN        NM_MUN SIGLA_UF        lat       long\n",
       "0  3513009         Cotia       SP -23.675154 -46.960512\n",
       "1  3532827  Nova Campina       SP -24.190622 -48.972913"
      ]
     },
     "execution_count": 18,
     "metadata": {},
     "output_type": "execute_result"
    }
   ],
   "source": [
    "targets = ['CD_MUN', 'NM_MUN', 'SIGLA_UF', 'lat', 'long']\n",
    "municipios_sp_gdf = municipios_sp_gdf[targets]\n",
    "municipios_sp_gdf.head(2)"
   ]
  },
  {
   "cell_type": "code",
   "execution_count": 20,
   "id": "e28b37c1-3b48-4efb-8a10-52f1ce238e22",
   "metadata": {},
   "outputs": [
    {
     "name": "stderr",
     "output_type": "stream",
     "text": [
      "25/05/07 00:59:04 WARN NativeCodeLoader: Unable to load native-hadoop library for your platform... using builtin-java classes where applicable\n",
      "Setting default log level to \"WARN\".\n",
      "To adjust logging level use sc.setLogLevel(newLevel). For SparkR, use setLogLevel(newLevel).\n"
     ]
    }
   ],
   "source": [
    "## Sessao spark\n",
    "\n",
    "spark = (\n",
    "    SparkSession\n",
    "        .builder\n",
    "        .master(\"spark://spark:7077\")\n",
    "        .appName('MinIO - Teste')\n",
    "        .config('spark.hadoop.fs.s3a.endpoint', 'http://minio:9000')\n",
    "        .config('spark.hadoop.fs.s3a.access.key', 'minioadmin')\n",
    "        .config('spark.hadoop.fs.s3a.secret.key', 'minioadmin')\n",
    "        .config('spark.hadoop.fs.s3a.path.style.access', 'true')\n",
    "        .config('spark.hadoop.fs.s3a.connection.ssl.enabled', 'false')\n",
    "        .config('spark.hadoop.fs.s3a.impl', 'org.apache.hadoop.fs.s3a.S3AFileSystem')\n",
    "        .config('spark.jars', ', '.join(jars))\n",
    "        .getOrCreate()\n",
    ")"
   ]
  },
  {
   "cell_type": "code",
   "execution_count": 21,
   "id": "6a05de8e-837b-451e-b1dc-ea713b53a6b6",
   "metadata": {},
   "outputs": [
    {
     "name": "stderr",
     "output_type": "stream",
     "text": [
      "                                                                                "
     ]
    },
    {
     "name": "stdout",
     "output_type": "stream",
     "text": [
      "+-------+---------------+--------+-------------------+-------------------+\n",
      "| CD_MUN|         NM_MUN|SIGLA_UF|                lat|               long|\n",
      "+-------+---------------+--------+-------------------+-------------------+\n",
      "|3513009|          Cotia|      SP| -23.67515440059829|-46.960512331155044|\n",
      "|3532827|   Nova Campina|      SP| -24.19062212735448|  -48.9729133502219|\n",
      "|3502507|      Aparecida|      SP|-22.914206040127134| -45.23721921739436|\n",
      "|3543303| Ribeirão Pires|      SP|-23.701078895008695| -46.40280398464695|\n",
      "|3542008|       Quintana|      SP| -22.10019502617809| -50.36927535342769|\n",
      "|3545100|      Salmourão|      SP|-21.588038862741328| -50.87629611896304|\n",
      "|3532801|   Nova Aliança|      SP|  -21.0626207545152| -49.51597569054507|\n",
      "|3535903|      Paranapuã|      SP| -20.06377095677244| -50.59404469415986|\n",
      "|3522802|     Itaporanga|      SP| -23.67294942202673| -49.45849135508454|\n",
      "|3525904|        Jundiaí|      SP|-23.194602028794943|-46.913011931724306|\n",
      "|3534609|   Osvaldo Cruz|      SP|-21.732734496385547| -50.87388645380617|\n",
      "|3516101|       Florínea|      SP| -22.88120872980724|-50.695312295796825|\n",
      "|3508207|      Buritizal|      SP| -20.20931774005688|-47.692934174283394|\n",
      "|3506904|         Bofete|      SP| -23.12896964364173| -48.28587147614714|\n",
      "|3532868|  Nova Castilho|      SP| -20.77781977636481| -50.34575347718714|\n",
      "|3539400|    Piratininga|      SP| -22.42495270908694| -49.19179708468538|\n",
      "|3524600|    Jacupiranga|      SP|-24.777358894264697| -48.05387513866496|\n",
      "|3538105|      Pindorama|      SP|-21.209818861810835|-48.911629330252396|\n",
      "|3528700|Marabá Paulista|      SP|-22.127697667921627|-52.056586004835495|\n",
      "|3511508|      Cerquilho|      SP|-23.187123398035684| -47.75713328560421|\n",
      "+-------+---------------+--------+-------------------+-------------------+\n",
      "only showing top 20 rows\n",
      "\n"
     ]
    }
   ],
   "source": [
    "df = spark.createDataFrame(municipios_sp_gdf)\n",
    "df.show()"
   ]
  },
  {
   "cell_type": "code",
   "execution_count": 23,
   "id": "bd25e270-a6c4-4089-bcac-5abde6bc776b",
   "metadata": {},
   "outputs": [
    {
     "name": "stderr",
     "output_type": "stream",
     "text": [
      "                                                                                "
     ]
    }
   ],
   "source": [
    "df.coalesce(1).write.mode('overwrite').parquet('s3a://bronze/municipios_sp.parquet')"
   ]
  },
  {
   "cell_type": "code",
   "execution_count": null,
   "id": "c24a4786-9eaa-44b7-ba53-db220e8bd0d4",
   "metadata": {},
   "outputs": [],
   "source": [
    "# Passo 2: Dados climaticos por municipios\n",
    "# Camada Silver\n",
    "# /api/temporal/climatology/point"
   ]
  },
  {
   "cell_type": "code",
   "execution_count": null,
   "id": "ae36c542-106c-4951-8937-7a2f6647894a",
   "metadata": {},
   "outputs": [],
   "source": []
  },
  {
   "cell_type": "code",
   "execution_count": null,
   "id": "262c0a3a-a1d7-43da-a941-547188f74f17",
   "metadata": {},
   "outputs": [],
   "source": [
    "# Passo 3: Agregar os dados\n",
    "# Camada Gold"
   ]
  },
  {
   "cell_type": "code",
   "execution_count": null,
   "id": "ad376185-1057-48c6-86c9-f861b915fa0a",
   "metadata": {},
   "outputs": [],
   "source": []
  }
 ],
 "metadata": {
  "kernelspec": {
   "display_name": "Python 3 (ipykernel)",
   "language": "python",
   "name": "python3"
  },
  "language_info": {
   "codemirror_mode": {
    "name": "ipython",
    "version": 3
   },
   "file_extension": ".py",
   "mimetype": "text/x-python",
   "name": "python",
   "nbconvert_exporter": "python",
   "pygments_lexer": "ipython3",
   "version": "3.12.9"
  }
 },
 "nbformat": 4,
 "nbformat_minor": 5
}
